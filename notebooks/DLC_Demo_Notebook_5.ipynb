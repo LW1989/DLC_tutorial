{
 "cells": [
  {
   "cell_type": "markdown",
   "metadata": {
    "colab_type": "text",
    "id": "RK255E7YoEIt"
   },
   "source": [
    "## Analyze videos\n",
    "\n",
    "Now your network is fully trained, evaluated and ready for usage. For this you will need to use the HPC of the universtiy again. Therefore, you have to run this jupyter notebook on the server. Check the tutorial again for instructions. The rest is basically the same as in DLC_Demo_notebook_3.\n"
   ]
  },
  {
   "cell_type": "code",
   "execution_count": 1,
   "metadata": {},
   "outputs": [],
   "source": [
    "%load_ext slurm_magic"
   ]
  },
  {
   "cell_type": "markdown",
   "metadata": {},
   "source": [
    "First you should check how many other Jobs there are waiting to be processed. "
   ]
  },
  {
   "cell_type": "code",
   "execution_count": 10,
   "metadata": {},
   "outputs": [
    {
     "name": "stderr",
     "output_type": "stream",
     "text": [
      "/hpc/opt/apps/Anaconda/3-2021.11/lib/python3.9/site-packages/IPython/core/interactiveshell.py:2351: FutureWarning: The error_bad_lines argument has been deprecated and will be removed in a future version.\n",
      "\n",
      "\n",
      "  result = fn(*args, **kwargs)\n"
     ]
    },
    {
     "data": {
      "text/html": [
       "<div>\n",
       "<style scoped>\n",
       "    .dataframe tbody tr th:only-of-type {\n",
       "        vertical-align: middle;\n",
       "    }\n",
       "\n",
       "    .dataframe tbody tr th {\n",
       "        vertical-align: top;\n",
       "    }\n",
       "\n",
       "    .dataframe thead th {\n",
       "        text-align: right;\n",
       "    }\n",
       "</style>\n",
       "<table border=\"1\" class=\"dataframe\">\n",
       "  <thead>\n",
       "    <tr style=\"text-align: right;\">\n",
       "      <th></th>\n",
       "      <th>JOBID</th>\n",
       "      <th>PARTITION</th>\n",
       "      <th>NAME</th>\n",
       "      <th>USER</th>\n",
       "      <th>ST</th>\n",
       "      <th>TIME</th>\n",
       "      <th>NODES</th>\n",
       "      <th>NODELIST(REASON)</th>\n",
       "    </tr>\n",
       "  </thead>\n",
       "  <tbody>\n",
       "    <tr>\n",
       "      <th>0</th>\n",
       "      <td>12849</td>\n",
       "      <td>CPU</td>\n",
       "      <td>stateSpa</td>\n",
       "      <td>cardom</td>\n",
       "      <td>R</td>\n",
       "      <td>11:53:31</td>\n",
       "      <td>1</td>\n",
       "      <td>cpu01</td>\n",
       "    </tr>\n",
       "    <tr>\n",
       "      <th>1</th>\n",
       "      <td>12848</td>\n",
       "      <td>CPU</td>\n",
       "      <td>stateSpa</td>\n",
       "      <td>cardom</td>\n",
       "      <td>R</td>\n",
       "      <td>11:56:09</td>\n",
       "      <td>1</td>\n",
       "      <td>cpu01</td>\n",
       "    </tr>\n",
       "    <tr>\n",
       "      <th>2</th>\n",
       "      <td>12847</td>\n",
       "      <td>CPU</td>\n",
       "      <td>connectF</td>\n",
       "      <td>cardom</td>\n",
       "      <td>R</td>\n",
       "      <td>12:00:07</td>\n",
       "      <td>1</td>\n",
       "      <td>cpu01</td>\n",
       "    </tr>\n",
       "  </tbody>\n",
       "</table>\n",
       "</div>"
      ],
      "text/plain": [
       "   JOBID PARTITION      NAME    USER ST      TIME  NODES NODELIST(REASON)\n",
       "0  12849       CPU  stateSpa  cardom  R  11:53:31      1            cpu01\n",
       "1  12848       CPU  stateSpa  cardom  R  11:56:09      1            cpu01\n",
       "2  12847       CPU  connectF  cardom  R  12:00:07      1            cpu01"
      ]
     },
     "execution_count": 10,
     "metadata": {},
     "output_type": "execute_result"
    }
   ],
   "source": [
    "%squeue"
   ]
  },
  {
   "cell_type": "markdown",
   "metadata": {},
   "source": [
    "This time you you will run the the py script \"deeplabcut_analyze_videos.py\". It looks like this:\n",
    "\n",
    "`import deeplabcut  \n",
    "\n",
    " path_config_file = '/home/wallhorn/DLC_Projects/top_view_08_2022-Wallhorn-2022-08-11/config.yaml'\n",
    " \n",
    " path_to_video=['/home/wallhorn/DLC_Projects/top_view_08_2022-Wallhorn-2022-08-11/new_vids']\n",
    "\n",
    " deeplabcut.analyze_videos(path_config_file, path_to_video, videotype='.mp4', save_as_csv=True)`\n",
    " \n",
    "Here you need to change the path where the job report is going to be save (check DLC_Demo_Notebook_3), the path of the config file of your network, as well as the pathway to the videos you want to analyze. You can copy the videos to the server using WinSCP/Cyberduck (check the tutorial). \n",
    "Important: Make sure you put in the correct videotype. Check it beforehand if it is .mp4, .mpg or .avi and change it in the py script. \n"
   ]
  },
  {
   "cell_type": "code",
   "execution_count": 7,
   "metadata": {},
   "outputs": [
    {
     "data": {
      "text/plain": [
       "'Submitted batch job 12857\\n'"
      ]
     },
     "execution_count": 7,
     "metadata": {},
     "output_type": "execute_result"
    }
   ],
   "source": [
    "%%sbatch\n",
    "#!/bin/bash\n",
    "#\n",
    "#SBATCH --job-name=DLC_vid\n",
    "#SBATCH --nodes=1\n",
    "#SBATCH --ntasks=1\n",
    "#SBATCH --cpus-per-task=48\n",
    "#SBATCH --output=/home/wallhorn/DLC_Projects/job_reports/%j.out\n",
    "\n",
    "\n",
    "#SBATCH --job-name=DLC_vid\n",
    "\n",
    "\n",
    "module load cuda\n",
    "module load anaconda\n",
    "\n",
    "source /hpc/opt/apps/Anaconda/3-2021.11/etc/profile.d/conda.sh\n",
    "conda init bash\n",
    "\n",
    "conda activate DEEPLABCUT\n",
    "\n",
    "export LD_LIBRARY_PATH=\"$CONDA_PREFIX/lib\"\n",
    "cd /home/wallhorn/DLC_Projects/py_scripts\n",
    "\n",
    "srun python3 deeplabcut_analyze_videos.py"
   ]
  },
  {
   "cell_type": "code",
   "execution_count": 5,
   "metadata": {},
   "outputs": [
    {
     "data": {
      "text/plain": [
       "''"
      ]
     },
     "execution_count": 5,
     "metadata": {},
     "output_type": "execute_result"
    }
   ],
   "source": []
  },
  {
   "cell_type": "code",
   "execution_count": null,
   "metadata": {},
   "outputs": [],
   "source": []
  }
 ],
 "metadata": {
  "accelerator": "GPU",
  "colab": {
   "name": "Demo-yourowndata.ipynb",
   "provenance": [],
   "version": "0.3.2"
  },
  "kernelspec": {
   "display_name": "Python 3 (ipykernel)",
   "language": "python",
   "name": "python3"
  },
  "language_info": {
   "codemirror_mode": {
    "name": "ipython",
    "version": 3
   },
   "file_extension": ".py",
   "mimetype": "text/x-python",
   "name": "python",
   "nbconvert_exporter": "python",
   "pygments_lexer": "ipython3",
   "version": "3.9.12"
  },
  "varInspector": {
   "cols": {
    "lenName": 16,
    "lenType": 16,
    "lenVar": 40
   },
   "kernels_config": {
    "python": {
     "delete_cmd_postfix": "",
     "delete_cmd_prefix": "del ",
     "library": "var_list.py",
     "varRefreshCmd": "print(var_dic_list())"
    },
    "r": {
     "delete_cmd_postfix": ") ",
     "delete_cmd_prefix": "rm(",
     "library": "var_list.r",
     "varRefreshCmd": "cat(var_dic_list()) "
    }
   },
   "types_to_exclude": [
    "module",
    "function",
    "builtin_function_or_method",
    "instance",
    "_Feature"
   ],
   "window_display": false
  }
 },
 "nbformat": 4,
 "nbformat_minor": 4
}
