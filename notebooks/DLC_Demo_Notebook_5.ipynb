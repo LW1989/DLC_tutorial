{
 "cells": [
  {
   "cell_type": "markdown",
   "metadata": {
    "colab_type": "text",
    "id": "RK255E7YoEIt"
   },
   "source": [
    "## Analyze videos\n",
    "\n",
    "Now your network is fully trained, evaluated and ready for usage. For this you will need to use the HPC of the universtiy again. Therefore, you have to run this jupyter notebook on the server. Check the tutorial again for instructions. The rest is basically the same as in DLC_Demo_notebook_3.\n"
   ]
  },
  {
   "cell_type": "code",
   "execution_count": null,
   "metadata": {},
   "outputs": [],
   "source": [
    "%load_ext slurm_magic"
   ]
  },
  {
   "cell_type": "markdown",
   "metadata": {},
   "source": [
    "First you should check how many other Jobs there are waiting to be processed. "
   ]
  },
  {
   "cell_type": "code",
   "execution_count": null,
   "metadata": {},
   "outputs": [],
   "source": [
    "%squeue"
   ]
  },
  {
   "cell_type": "markdown",
   "metadata": {},
   "source": [
    "This time you you will run the the py script \"deeplabcut_analyze_videos.py\". It looks like this:\n",
    "\n",
    "`import deeplabcut  \n",
    "\n",
    " path_config_file = '/home/wallhorn/DLC_Projects/top_view_08_2022-Wallhorn-2022-08-11/config.yaml'\n",
    " \n",
    " path_to_video=['/home/wallhorn/DLC_Projects/top_view_08_2022-Wallhorn-2022-08-11/new_vids']\n",
    "\n",
    " deeplabcut.analyze_videos(path_config_file, path_to_video, videotype='.mp4', save_as_csv=True)`\n",
    " \n",
    "Here you need to change the path where the job report is going to be save (check DLC_Demo_Notebook_3), the path of the config file of your network, as well as the pathway to the videos you want to analyze. You can copy the videos to the server using WinSCP/Cyberduck (check the tutorial). \n",
    "Important: Make sure you put in the correct videotype. Check it beforehand if it is .mp4, .mpg or .avi and change it in the py script. \n"
   ]
  },
  {
   "cell_type": "code",
   "execution_count": null,
   "metadata": {},
   "outputs": [],
   "source": [
    "%%sbatch\n",
    "#!/bin/bash\n",
    "#\n",
    "#SBATCH --job-name=DLC_vid\n",
    "#SBATCH --nodes=1\n",
    "#SBATCH --ntasks=1\n",
    "#SBATCH --cpus-per-task=48\n",
    "#SBATCH --output=/home/wallhorn/DLC_Projects/job_reports/%j.out\n",
    "\n",
    "\n",
    "#SBATCH --job-name=DLC_vid\n",
    "\n",
    "\n",
    "module load cuda\n",
    "module load anaconda\n",
    "\n",
    "source /hpc/opt/apps/Anaconda/3-2021.11/etc/profile.d/conda.sh\n",
    "conda init bash\n",
    "\n",
    "conda activate DEEPLABCUT\n",
    "\n",
    "export LD_LIBRARY_PATH=\"$CONDA_PREFIX/lib\"\n",
    "cd /home/wallhorn/DLC_Projects/py_scripts\n",
    "\n",
    "srun python3 deeplabcut_analyze_videos.py"
   ]
  },
  {
   "cell_type": "markdown",
   "metadata": {},
   "source": [
    "Now your job is submitted and you can check if it is in the queue by executing the following cell. You can also go the folder where the job reports are being saved and open the job report with a text editor."
   ]
  },
  {
   "cell_type": "code",
   "execution_count": null,
   "metadata": {},
   "outputs": [],
   "source": [
    "%squeue"
   ]
  },
  {
   "cell_type": "markdown",
   "metadata": {},
   "source": [
    "Well done! Your analyzed your first videos with DeepLabCut. The results will be saved in the folder of the analyzed videos.  "
   ]
  }
 ],
 "metadata": {
  "accelerator": "GPU",
  "colab": {
   "name": "Demo-yourowndata.ipynb",
   "provenance": [],
   "version": "0.3.2"
  },
  "kernelspec": {
   "display_name": "Python 3 (ipykernel)",
   "language": "python",
   "name": "python3"
  },
  "language_info": {
   "codemirror_mode": {
    "name": "ipython",
    "version": 3
   },
   "file_extension": ".py",
   "mimetype": "text/x-python",
   "name": "python",
   "nbconvert_exporter": "python",
   "pygments_lexer": "ipython3",
   "version": "3.9.12"
  },
  "varInspector": {
   "cols": {
    "lenName": 16,
    "lenType": 16,
    "lenVar": 40
   },
   "kernels_config": {
    "python": {
     "delete_cmd_postfix": "",
     "delete_cmd_prefix": "del ",
     "library": "var_list.py",
     "varRefreshCmd": "print(var_dic_list())"
    },
    "r": {
     "delete_cmd_postfix": ") ",
     "delete_cmd_prefix": "rm(",
     "library": "var_list.r",
     "varRefreshCmd": "cat(var_dic_list()) "
    }
   },
   "types_to_exclude": [
    "module",
    "function",
    "builtin_function_or_method",
    "instance",
    "_Feature"
   ],
   "window_display": false
  }
 },
 "nbformat": 4,
 "nbformat_minor": 4
}
